{
 "cells": [
  {
   "cell_type": "code",
   "execution_count": 8,
   "id": "9402309c-c387-436a-8e8a-e144e4b7bbe4",
   "metadata": {},
   "outputs": [
    {
     "data": {
      "text/plain": [
       "[966, 738, 750, 573, 323]"
      ]
     },
     "execution_count": 8,
     "metadata": {},
     "output_type": "execute_result"
    }
   ],
   "source": [
    "import pyspark  \n",
    "\n",
    "sc = pyspark.SparkContext('local[*]') \n",
    "\n",
    "# do something to prove it works \n",
    "\n",
    "rdd = sc.parallelize(range(1000)) \n",
    "\n",
    "rdd.takeSample(False, 5) "
   ]
  },
  {
   "cell_type": "code",
   "execution_count": 10,
   "id": "04dcb6cd-4c37-46e9-be9b-738925b93580",
   "metadata": {},
   "outputs": [],
   "source": [
    "import pyspark\n",
    "from pyspark.sql import SparkSession\n",
    "\n",
    "spark = SparkSession.builder.master(\"local[1]\").appName(\"setup\").getOrCreate()"
   ]
  },
  {
   "cell_type": "code",
   "execution_count": 11,
   "id": "da692234-7636-45e4-a1f3-4f17900f03f5",
   "metadata": {},
   "outputs": [
    {
     "name": "stdout",
     "output_type": "stream",
     "text": [
      "Accounts total rows 500000\n",
      "country_abbreviation total rows 121\n",
      "transactions total rows 5000000\n"
     ]
    }
   ],
   "source": [
    "accounts = spark.read.options(header='True', inferSchema='True', delimiter=';') \\\n",
    "     .csv(\"/home/jovyan/accounts.csv\")\n",
    "country_abbreviation = spark.read.options(header='True', inferSchema='True', delimiter=';') \\\n",
    "     .csv(\"/home/jovyan/country_abbreviation.csv\")\n",
    "transactions = spark.read.options(header='True', inferSchema='True', delimiter=';') \\\n",
    "     .csv(\"/home/jovyan/transactions.csv\")\n",
    "\n",
    "print(\"Accounts total rows {}\".format(accounts.count()))\n",
    "print(\"country_abbreviation total rows {}\".format(country_abbreviation.count()))\n",
    "print(\"transactions total rows {}\".format(transactions.count()))"
   ]
  }
 ],
 "metadata": {
  "kernelspec": {
   "display_name": "Python 3 (ipykernel)",
   "language": "python",
   "name": "python3"
  },
  "language_info": {
   "codemirror_mode": {
    "name": "ipython",
    "version": 3
   },
   "file_extension": ".py",
   "mimetype": "text/x-python",
   "name": "python",
   "nbconvert_exporter": "python",
   "pygments_lexer": "ipython3",
   "version": "3.11.5"
  }
 },
 "nbformat": 4,
 "nbformat_minor": 5
}
