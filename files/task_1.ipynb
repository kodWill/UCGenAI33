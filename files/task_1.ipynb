{
 "cells": [
  {
   "cell_type": "code",
   "execution_count": 3,
   "id": "5304dc29-d32f-4fa0-8025-e6bf8afa0dfb",
   "metadata": {},
   "outputs": [],
   "source": [
    "import pyspark\n",
    "from pyspark.sql import SparkSession\n",
    "\n",
    "spark = SparkSession.builder.master(\"local[1]\").appName(\"setup\").getOrCreate()"
   ]
  },
  {
   "cell_type": "code",
   "execution_count": 4,
   "id": "79b7f13b-e2fd-4f36-ab9b-a6fae6fc3783",
   "metadata": {},
   "outputs": [],
   "source": [
    "#read_files\n",
    "accounts = spark.read.options(header='True', inferSchema='True', delimiter=';') \\\n",
    "     .csv(\"/home/jovyan/accounts.csv\")\n",
    "country_abbreviation = spark.read.options(header='True', inferSchema='True', delimiter=';') \\\n",
    "     .csv(\"/home/jovyan/country_abbreviation.csv\")\n",
    "transactions = spark.read.options(header='True', inferSchema='True', delimiter=';') \\\n",
    "     .csv(\"/home/jovyan/transactions.csv\")"
   ]
  },
  {
   "cell_type": "code",
   "execution_count": 7,
   "id": "fdf8e681-136c-43e7-b38c-f8a247835933",
   "metadata": {},
   "outputs": [],
   "source": [
    "#Create temp views to query\n",
    "accounts.createOrReplaceTempView(\"accounts\")\n",
    "country_abbreviation.createOrReplaceTempView(\"country_abbreviation\")\n",
    "transactions.createOrReplaceTempView(\"transactions\")"
   ]
  },
  {
   "cell_type": "code",
   "execution_count": 12,
   "id": "c7358be5-5f0a-4b55-9898-61362214a1ca",
   "metadata": {},
   "outputs": [
    {
     "data": {
      "text/plain": [
       "DataFrame[account_type: string, account_type_count: int]"
      ]
     },
     "execution_count": 12,
     "metadata": {},
     "output_type": "execute_result"
    }
   ],
   "source": [
    "spark.sql(\"\"\"\n",
    "    SELECT account_type, INT(COUNT(account_type)) AS account_type_count \n",
    "    FROM transactions\n",
    "    GROUP BY account_type\n",
    "\"\"\")"
   ]
  },
  {
   "cell_type": "code",
   "execution_count": 13,
   "id": "8a383252-cd5a-449e-82d3-2df4f11ed99c",
   "metadata": {},
   "outputs": [
    {
     "name": "stdout",
     "output_type": "stream",
     "text": [
      "+----------+-----------+\n",
      "|account_id|latest_date|\n",
      "+----------+-----------+\n",
      "|    482333| 2020-07-17|\n",
      "|    222048| 2020-07-20|\n",
      "|    328078| 2020-02-01|\n",
      "|    192401| 2020-01-30|\n",
      "|    273916| 2021-05-30|\n",
      "|    485103| 2021-05-22|\n",
      "|    300282| 2021-05-01|\n",
      "|     20683| 2021-10-27|\n",
      "|     15846| 2020-12-23|\n",
      "|    446783| 2021-12-11|\n",
      "|     92182| 2020-08-08|\n",
      "|    477485| 2020-05-23|\n",
      "|    171142| 2021-04-07|\n",
      "|    317762| 2021-12-02|\n",
      "|     65478| 2021-10-06|\n",
      "|    306768| 2019-12-19|\n",
      "|    380411| 2020-06-02|\n",
      "|    304681| 2021-03-26|\n",
      "|    475638| 2021-11-23|\n",
      "|     97413| 2018-05-01|\n",
      "+----------+-----------+\n",
      "only showing top 20 rows\n",
      "\n"
     ]
    }
   ],
   "source": [
    "spark.sql(\"\"\"\n",
    "    SELECT STRING(id) AS account_id, (SUM(amount))DATE(MAX(transaction_date)) AS latest_date\n",
    "    FROM transactions\n",
    "    GROUP BY id\n",
    "\"\"\").show()"
   ]
  }
 ],
 "metadata": {
  "kernelspec": {
   "display_name": "Python 3 (ipykernel)",
   "language": "python",
   "name": "python3"
  },
  "language_info": {
   "codemirror_mode": {
    "name": "ipython",
    "version": 3
   },
   "file_extension": ".py",
   "mimetype": "text/x-python",
   "name": "python",
   "nbconvert_exporter": "python",
   "pygments_lexer": "ipython3",
   "version": "3.11.5"
  }
 },
 "nbformat": 4,
 "nbformat_minor": 5
}
