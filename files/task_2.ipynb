{
 "cells": [
  {
   "cell_type": "code",
   "execution_count": 1,
   "id": "a2c68f98-b4ff-46d7-abbd-88591edfac08",
   "metadata": {},
   "outputs": [],
   "source": [
    "import pyspark\n",
    "from pyspark.sql import SparkSession\n",
    "\n",
    "spark = SparkSession.builder.master(\"local[1]\").appName(\"setup\").getOrCreate()"
   ]
  },
  {
   "cell_type": "code",
   "execution_count": 2,
   "id": "791ee306-f8d3-4220-b565-65fd5819cac9",
   "metadata": {},
   "outputs": [],
   "source": [
    "#read_files\n",
    "accounts = spark.read.options(header='True', inferSchema='True', delimiter=';') \\\n",
    "     .csv(\"/home/jovyan/accounts.csv\")\n",
    "country_abbreviation = spark.read.options(header='True', inferSchema='True', delimiter=';') \\\n",
    "     .csv(\"/home/jovyan/country_abbreviation.csv\")\n",
    "transactions = spark.read.options(header='True', inferSchema='True', delimiter=';') \\\n",
    "     .csv(\"/home/jovyan/transactions.csv\")"
   ]
  },
  {
   "cell_type": "code",
   "execution_count": 20,
   "id": "b802a04d-94e1-49d9-be2d-948e55828f08",
   "metadata": {},
   "outputs": [],
   "source": [
    "swiss_abb = country_abbreviation.select(\"abbreviation\").filter(country_abbreviation.country_full_name == \"Switzerland\").collect()[0].__getitem__('abbreviation')"
   ]
  },
  {
   "cell_type": "code",
   "execution_count": 34,
   "id": "cfe04d56-2ef9-461d-a019-7bc14f5245fc",
   "metadata": {},
   "outputs": [
    {
     "name": "stdout",
     "output_type": "stream",
     "text": [
      "+----------+---------+----------------+-------+\n",
      "|first_name|last_name|transaction_date| amount|\n",
      "+----------+---------+----------------+-------+\n",
      "| Frederick| Morrison|      2021-06-16|  512.3|\n",
      "| Frederick| Morrison|      2012-10-24|8707.01|\n",
      "| Frederick| Morrison|      2020-09-04|9360.72|\n",
      "| Frederick| Morrison|      2019-05-10|7892.81|\n",
      "| Frederick| Morrison|      2016-06-25|1582.28|\n",
      "| Frederick| Morrison|      2016-05-14|5574.68|\n",
      "| Frederick| Morrison|      2021-01-11|9686.86|\n",
      "|Maximilian|  Chapman|      2016-05-18|6182.78|\n",
      "|Maximilian|  Chapman|      2016-03-31|8899.88|\n",
      "|Maximilian|  Chapman|      2013-10-12|2047.12|\n",
      "|Maximilian|  Chapman|      2016-10-17|2502.55|\n",
      "|Maximilian|  Chapman|      2020-02-16|9933.39|\n",
      "|Maximilian|  Chapman|      2012-04-13|3725.31|\n",
      "|Maximilian|  Chapman|      2019-06-12|6172.79|\n",
      "|Maximilian|  Chapman|      2016-07-05|7405.78|\n",
      "|Maximilian|  Chapman|      2016-05-11|7547.69|\n",
      "|   Chester|Henderson|      2013-07-10|1318.64|\n",
      "|   Chester|Henderson|      2015-11-02|9415.37|\n",
      "|   Chester|Henderson|      2016-10-24|8208.98|\n",
      "|   Chester|Henderson|      2020-09-06|4355.87|\n",
      "+----------+---------+----------------+-------+\n",
      "only showing top 20 rows\n",
      "\n"
     ]
    }
   ],
   "source": [
    "accounts = accounts.alias('acc')\n",
    "transactions = transactions.alias('tr')\n",
    "swiss_earnings = accounts.filter(accounts.country == swiss_abb).join(transactions.filter(transactions.amount > 0),accounts.id == transactions.id, \"left\").select('acc.first_name', 'acc.last_name', 'tr.transaction_date', 'tr.amount')"
   ]
  },
  {
   "cell_type": "code",
   "execution_count": 39,
   "id": "a7163c78-6858-421d-bb75-583b623ca680",
   "metadata": {},
   "outputs": [
    {
     "name": "stdout",
     "output_type": "stream",
     "text": [
      "+----------------+--------+------------------+--------+--------+--------+------------------+-------+-------+--------+------------------+------------------+\n",
      "|       full_name|    2011|              2012|    2013|    2014|    2015|              2016|   2017|   2018|    2019|              2020|              2021|\n",
      "+----------------+--------+------------------+--------+--------+--------+------------------+-------+-------+--------+------------------+------------------+\n",
      "|  Adison Douglas|    null|          10622.48|14322.94|    null|    null|              null|6328.92|8248.97|    null|              null|           3406.01|\n",
      "|   Darcy Edwards|    null|              null|    null|16848.72|    null|           7922.11|10337.6|   null| 3722.62|            7545.8|              null|\n",
      "|  Olivia Hawkins| 8112.16|           1196.61| 7345.82|  576.65|    null|             82.74|   null|   null| 1244.63|              null|           4903.52|\n",
      "|   Connie Gibson|    null|           8486.84| 3664.69| 7385.69|    null|           1717.48|2436.81|   null| 5545.76|              null|              null|\n",
      "|   Justin Cooper|20224.62|           5977.15|    null|16800.75| 6475.07|              null|   null|2582.08| 5888.01|            1988.9|              null|\n",
      "|     Blake Moore|    null| 7885.150000000001|    null|15699.94|    null|           2882.76|6943.04|3428.67|    null|           7861.35|           8448.15|\n",
      "|      Clark Hall|    null|           1784.62|    null|    null|    null|           2125.18|   null|   null| 6097.56|           8677.36|          12687.51|\n",
      "|     Amber Evans|    null|           3798.16|    null|    null|    null|13363.730000000001|7020.42|6696.24|  942.82|11777.369999999999|              null|\n",
      "|    Arnold Kelly|    null|           8771.92|    null|12260.09| 2920.82|           1359.71|   null|6084.71|    null|              null|           9068.72|\n",
      "|   Arnold Morris|    null|              null|    null|12931.32| 2026.07|              null|2641.35|   null| 3427.39|              null|           8965.33|\n",
      "|    Paige Taylor|    null|              null| 5618.18|    null|    null|           2784.89|2634.62|   null| 9963.01|          14458.31|            436.22|\n",
      "|    April Harper|  7841.0|           13925.4| 1128.23|    null|14423.01|           8253.21|   null|   null|    null|          15071.61|              null|\n",
      "| Kirsten Stevens| 1008.24|              null|  366.76| 8655.74|    null|           1080.08|   null|   null|    null|           9788.55|              null|\n",
      "|  Dale Alexander| 9022.91|           9812.92|    null| 2848.98|    null|          10517.91|   null|3863.86|    null|          20184.66|13121.400000000001|\n",
      "|  Kelsey Spencer| 8000.61|14881.710000000001| 9079.28| 6572.99|    null|           7699.19|   null| 4867.4|    null|              null|              null|\n",
      "|Charlie Anderson|  6809.2|           5100.17|    null|12423.34| 5351.78|           6502.27|   null|   null|24717.59|              null|           6316.73|\n",
      "|  Stuart Hawkins|    null|              null| 1279.27|    null|    null|           1453.43|   null|6499.72|    null|           2035.15|11150.640000000001|\n",
      "|Maria Montgomery|12983.95|           9484.38| 4085.95| 3416.92|    null|              null|8086.86|5232.33|    null|           3802.62|              null|\n",
      "|    Tiana Tucker|    null|           11262.2| 4294.04|    null|    null| 6841.740000000001|   null| 9815.9|    null|            293.39|          15070.44|\n",
      "|      Daryl Reed| 8236.85|              null|    null|    null| 3755.61|            1529.8|   null|8891.51|    null|              null|           9841.84|\n",
      "+----------------+--------+------------------+--------+--------+--------+------------------+-------+-------+--------+------------------+------------------+\n",
      "only showing top 20 rows\n",
      "\n"
     ]
    }
   ],
   "source": [
    "from pyspark.sql.functions import year, concat, col, lit\n",
    "\n",
    "swiss_earnings_filtered = swiss_earnings.select(concat('first_name',lit(' '),'last_name').alias(\"full_name\"),year(\"transaction_date\").alias('year'),\"amount\")\n",
    "swiss_earnings_agg = swiss_earnings_filtered.groupBy(\"full_name\").pivot(\"year\").sum(\"amount\").show()"
   ]
  }
 ],
 "metadata": {
  "kernelspec": {
   "display_name": "Python 3 (ipykernel)",
   "language": "python",
   "name": "python3"
  },
  "language_info": {
   "codemirror_mode": {
    "name": "ipython",
    "version": 3
   },
   "file_extension": ".py",
   "mimetype": "text/x-python",
   "name": "python",
   "nbconvert_exporter": "python",
   "pygments_lexer": "ipython3",
   "version": "3.11.5"
  }
 },
 "nbformat": 4,
 "nbformat_minor": 5
}
