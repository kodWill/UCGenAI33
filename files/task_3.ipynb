{
 "cells": [
  {
   "cell_type": "code",
   "execution_count": 1,
   "id": "c5d9f2c7-8fda-496b-981c-7617a8d383a5",
   "metadata": {},
   "outputs": [],
   "source": [
    "import pyspark\n",
    "from pyspark.sql import SparkSession\n",
    "\n",
    "spark = SparkSession.builder.master(\"local[1]\").appName(\"setup\").getOrCreate()"
   ]
  },
  {
   "cell_type": "code",
   "execution_count": 2,
   "id": "5cf6bb81-1ea6-41b8-8d11-19f326cf931d",
   "metadata": {},
   "outputs": [],
   "source": [
    "#read_files\n",
    "transactions = spark.read.options(header='True', inferSchema='True', delimiter=';') \\\n",
    "     .csv(\"/home/jovyan/transactions.csv\")"
   ]
  },
  {
   "cell_type": "code",
   "execution_count": 3,
   "id": "99546918-3579-48e9-8229-c5732d2a2d3c",
   "metadata": {},
   "outputs": [],
   "source": [
    "transactions.createOrReplaceTempView(\"transactions\")"
   ]
  },
  {
   "cell_type": "code",
   "execution_count": 16,
   "id": "ae34adb8-b10d-488e-96b9-ff77b6ec4792",
   "metadata": {},
   "outputs": [
    {
     "ename": "AnalysisException",
     "evalue": "[UNRESOLVED_COLUMN.WITH_SUGGESTION] A column or function parameter with name `transaction_type` cannot be resolved. Did you mean one of the following? [`ranked_temp`.`id`, `ranked_temp`.`account_type`, `ranked_temp`.`amount`, `ranked_temp`.`country`, `ranked_temp`.`transaction_date`].; line 8 pos 34;\n'WithCTE\n:- CTERelationDef 7, false\n:  +- SubqueryAlias ranked_temp\n:     +- Project [id#17, amount#18, account_type#19, transaction_date#20, country#21, Percent_Rank#361]\n:        +- Project [id#17, amount#18, account_type#19, transaction_date#20, country#21, _we0#367, round(_we0#367, 2) AS Percent_Rank#361]\n:           +- Window [percent_rank(amount#18) windowspecdefinition(amount#18 ASC NULLS FIRST, specifiedwindowframe(RowFrame, unboundedpreceding$(), currentrow$())) AS _we0#367], [amount#18 ASC NULLS FIRST]\n:              +- Project [id#17, amount#18, account_type#19, transaction_date#20, country#21]\n:                 +- SubqueryAlias transactions\n:                    +- View (`transactions`, [id#17,amount#18,account_type#19,transaction_date#20,country#21])\n:                       +- Relation [id#17,amount#18,account_type#19,transaction_date#20,country#21] csv\n+- 'Project [id#17, amount#18, account_type#19, 'transaction_type, country#21, CASE WHEN (Percent_rank#361 >= cast(0.75 as double)) THEN high WHEN ((Percent_rank#361 >= cast(0.25 as double)) AND (Percent_rank#361 < cast(0.75 as double))) THEN average ELSE low END AS level#360]\n   +- SubqueryAlias ranked_temp\n      +- CTERelationRef 7, true, [id#17, amount#18, account_type#19, transaction_date#20, country#21, Percent_Rank#361]\n",
     "output_type": "error",
     "traceback": [
      "\u001b[0;31m---------------------------------------------------------------------------\u001b[0m",
      "\u001b[0;31mAnalysisException\u001b[0m                         Traceback (most recent call last)",
      "Cell \u001b[0;32mIn[16], line 1\u001b[0m\n\u001b[0;32m----> 1\u001b[0m \u001b[43mspark\u001b[49m\u001b[38;5;241;43m.\u001b[39;49m\u001b[43msql\u001b[49m\u001b[43m(\u001b[49m\u001b[38;5;124;43m\"\"\"\u001b[39;49m\n\u001b[1;32m      2\u001b[0m \u001b[38;5;124;43m    WITH ranked_temp(\u001b[39;49m\n\u001b[1;32m      3\u001b[0m \u001b[38;5;124;43m    SELECT *, ROUND(PERCENT_RANK() OVER(\u001b[39;49m\n\u001b[1;32m      4\u001b[0m \u001b[38;5;124;43m                  ORDER BY amount), 2) AS Percent_Rank\u001b[39;49m\n\u001b[1;32m      5\u001b[0m \u001b[38;5;124;43m    FROM transactions\u001b[39;49m\n\u001b[1;32m      6\u001b[0m \u001b[38;5;124;43m    )\u001b[39;49m\n\u001b[1;32m      7\u001b[0m \u001b[38;5;124;43m    SELECT \u001b[39;49m\n\u001b[1;32m      8\u001b[0m \u001b[38;5;124;43m        id, amount, account_type, transaction_type, country,\u001b[39;49m\n\u001b[1;32m      9\u001b[0m \u001b[38;5;124;43m        CASE \u001b[39;49m\n\u001b[1;32m     10\u001b[0m \u001b[38;5;124;43m            WHEN Percent_rank >= 0.75 THEN \u001b[39;49m\u001b[38;5;124;43m'\u001b[39;49m\u001b[38;5;124;43mhigh\u001b[39;49m\u001b[38;5;124;43m'\u001b[39;49m\u001b[38;5;124;43m \u001b[39;49m\n\u001b[1;32m     11\u001b[0m \u001b[38;5;124;43m            WHEN Percent_rank >= 0.25 AND Percent_rank < 0.75 THEN \u001b[39;49m\u001b[38;5;124;43m'\u001b[39;49m\u001b[38;5;124;43maverage\u001b[39;49m\u001b[38;5;124;43m'\u001b[39;49m\n\u001b[1;32m     12\u001b[0m \u001b[38;5;124;43m            ELSE \u001b[39;49m\u001b[38;5;124;43m'\u001b[39;49m\u001b[38;5;124;43mlow\u001b[39;49m\u001b[38;5;124;43m'\u001b[39;49m\n\u001b[1;32m     13\u001b[0m \u001b[38;5;124;43m        END AS level\u001b[39;49m\n\u001b[1;32m     14\u001b[0m \u001b[38;5;124;43m    FROM\u001b[39;49m\n\u001b[1;32m     15\u001b[0m \u001b[38;5;124;43m        ranked_temp\u001b[39;49m\n\u001b[1;32m     16\u001b[0m \u001b[38;5;124;43m\"\"\"\u001b[39;49m\u001b[43m)\u001b[49m\u001b[38;5;241m.\u001b[39mshow()\n",
      "File \u001b[0;32m/usr/local/spark/python/pyspark/sql/session.py:1440\u001b[0m, in \u001b[0;36mSparkSession.sql\u001b[0;34m(self, sqlQuery, args, **kwargs)\u001b[0m\n\u001b[1;32m   1438\u001b[0m \u001b[38;5;28;01mtry\u001b[39;00m:\n\u001b[1;32m   1439\u001b[0m     litArgs \u001b[38;5;241m=\u001b[39m {k: _to_java_column(lit(v)) \u001b[38;5;28;01mfor\u001b[39;00m k, v \u001b[38;5;129;01min\u001b[39;00m (args \u001b[38;5;129;01mor\u001b[39;00m {})\u001b[38;5;241m.\u001b[39mitems()}\n\u001b[0;32m-> 1440\u001b[0m     \u001b[38;5;28;01mreturn\u001b[39;00m DataFrame(\u001b[38;5;28;43mself\u001b[39;49m\u001b[38;5;241;43m.\u001b[39;49m\u001b[43m_jsparkSession\u001b[49m\u001b[38;5;241;43m.\u001b[39;49m\u001b[43msql\u001b[49m\u001b[43m(\u001b[49m\u001b[43msqlQuery\u001b[49m\u001b[43m,\u001b[49m\u001b[43m \u001b[49m\u001b[43mlitArgs\u001b[49m\u001b[43m)\u001b[49m, \u001b[38;5;28mself\u001b[39m)\n\u001b[1;32m   1441\u001b[0m \u001b[38;5;28;01mfinally\u001b[39;00m:\n\u001b[1;32m   1442\u001b[0m     \u001b[38;5;28;01mif\u001b[39;00m \u001b[38;5;28mlen\u001b[39m(kwargs) \u001b[38;5;241m>\u001b[39m \u001b[38;5;241m0\u001b[39m:\n",
      "File \u001b[0;32m/usr/local/spark/python/lib/py4j-0.10.9.7-src.zip/py4j/java_gateway.py:1322\u001b[0m, in \u001b[0;36mJavaMember.__call__\u001b[0;34m(self, *args)\u001b[0m\n\u001b[1;32m   1316\u001b[0m command \u001b[38;5;241m=\u001b[39m proto\u001b[38;5;241m.\u001b[39mCALL_COMMAND_NAME \u001b[38;5;241m+\u001b[39m\\\n\u001b[1;32m   1317\u001b[0m     \u001b[38;5;28mself\u001b[39m\u001b[38;5;241m.\u001b[39mcommand_header \u001b[38;5;241m+\u001b[39m\\\n\u001b[1;32m   1318\u001b[0m     args_command \u001b[38;5;241m+\u001b[39m\\\n\u001b[1;32m   1319\u001b[0m     proto\u001b[38;5;241m.\u001b[39mEND_COMMAND_PART\n\u001b[1;32m   1321\u001b[0m answer \u001b[38;5;241m=\u001b[39m \u001b[38;5;28mself\u001b[39m\u001b[38;5;241m.\u001b[39mgateway_client\u001b[38;5;241m.\u001b[39msend_command(command)\n\u001b[0;32m-> 1322\u001b[0m return_value \u001b[38;5;241m=\u001b[39m \u001b[43mget_return_value\u001b[49m\u001b[43m(\u001b[49m\n\u001b[1;32m   1323\u001b[0m \u001b[43m    \u001b[49m\u001b[43manswer\u001b[49m\u001b[43m,\u001b[49m\u001b[43m \u001b[49m\u001b[38;5;28;43mself\u001b[39;49m\u001b[38;5;241;43m.\u001b[39;49m\u001b[43mgateway_client\u001b[49m\u001b[43m,\u001b[49m\u001b[43m \u001b[49m\u001b[38;5;28;43mself\u001b[39;49m\u001b[38;5;241;43m.\u001b[39;49m\u001b[43mtarget_id\u001b[49m\u001b[43m,\u001b[49m\u001b[43m \u001b[49m\u001b[38;5;28;43mself\u001b[39;49m\u001b[38;5;241;43m.\u001b[39;49m\u001b[43mname\u001b[49m\u001b[43m)\u001b[49m\n\u001b[1;32m   1325\u001b[0m \u001b[38;5;28;01mfor\u001b[39;00m temp_arg \u001b[38;5;129;01min\u001b[39;00m temp_args:\n\u001b[1;32m   1326\u001b[0m     \u001b[38;5;28;01mif\u001b[39;00m \u001b[38;5;28mhasattr\u001b[39m(temp_arg, \u001b[38;5;124m\"\u001b[39m\u001b[38;5;124m_detach\u001b[39m\u001b[38;5;124m\"\u001b[39m):\n",
      "File \u001b[0;32m/usr/local/spark/python/pyspark/errors/exceptions/captured.py:175\u001b[0m, in \u001b[0;36mcapture_sql_exception.<locals>.deco\u001b[0;34m(*a, **kw)\u001b[0m\n\u001b[1;32m    171\u001b[0m converted \u001b[38;5;241m=\u001b[39m convert_exception(e\u001b[38;5;241m.\u001b[39mjava_exception)\n\u001b[1;32m    172\u001b[0m \u001b[38;5;28;01mif\u001b[39;00m \u001b[38;5;129;01mnot\u001b[39;00m \u001b[38;5;28misinstance\u001b[39m(converted, UnknownException):\n\u001b[1;32m    173\u001b[0m     \u001b[38;5;66;03m# Hide where the exception came from that shows a non-Pythonic\u001b[39;00m\n\u001b[1;32m    174\u001b[0m     \u001b[38;5;66;03m# JVM exception message.\u001b[39;00m\n\u001b[0;32m--> 175\u001b[0m     \u001b[38;5;28;01mraise\u001b[39;00m converted \u001b[38;5;28;01mfrom\u001b[39;00m \u001b[38;5;28;01mNone\u001b[39;00m\n\u001b[1;32m    176\u001b[0m \u001b[38;5;28;01melse\u001b[39;00m:\n\u001b[1;32m    177\u001b[0m     \u001b[38;5;28;01mraise\u001b[39;00m\n",
      "\u001b[0;31mAnalysisException\u001b[0m: [UNRESOLVED_COLUMN.WITH_SUGGESTION] A column or function parameter with name `transaction_type` cannot be resolved. Did you mean one of the following? [`ranked_temp`.`id`, `ranked_temp`.`account_type`, `ranked_temp`.`amount`, `ranked_temp`.`country`, `ranked_temp`.`transaction_date`].; line 8 pos 34;\n'WithCTE\n:- CTERelationDef 7, false\n:  +- SubqueryAlias ranked_temp\n:     +- Project [id#17, amount#18, account_type#19, transaction_date#20, country#21, Percent_Rank#361]\n:        +- Project [id#17, amount#18, account_type#19, transaction_date#20, country#21, _we0#367, round(_we0#367, 2) AS Percent_Rank#361]\n:           +- Window [percent_rank(amount#18) windowspecdefinition(amount#18 ASC NULLS FIRST, specifiedwindowframe(RowFrame, unboundedpreceding$(), currentrow$())) AS _we0#367], [amount#18 ASC NULLS FIRST]\n:              +- Project [id#17, amount#18, account_type#19, transaction_date#20, country#21]\n:                 +- SubqueryAlias transactions\n:                    +- View (`transactions`, [id#17,amount#18,account_type#19,transaction_date#20,country#21])\n:                       +- Relation [id#17,amount#18,account_type#19,transaction_date#20,country#21] csv\n+- 'Project [id#17, amount#18, account_type#19, 'transaction_type, country#21, CASE WHEN (Percent_rank#361 >= cast(0.75 as double)) THEN high WHEN ((Percent_rank#361 >= cast(0.25 as double)) AND (Percent_rank#361 < cast(0.75 as double))) THEN average ELSE low END AS level#360]\n   +- SubqueryAlias ranked_temp\n      +- CTERelationRef 7, true, [id#17, amount#18, account_type#19, transaction_date#20, country#21, Percent_Rank#361]\n"
     ]
    }
   ],
   "source": [
    "spark.sql(\"\"\"\n",
    "    WITH ranked_temp(\n",
    "    SELECT *, ROUND(PERCENT_RANK() OVER(\n",
    "                  ORDER BY amount), 2) AS Percent_Rank\n",
    "    FROM transactions\n",
    "    )\n",
    "    SELECT \n",
    "        id, amount, account_type, transaction_type, country,\n",
    "        CASE \n",
    "            WHEN Percent_rank >= 0.75 THEN 'high' \n",
    "            WHEN Percent_rank >= 0.25 AND Percent_rank < 0.75 THEN 'average'\n",
    "            ELSE 'low'\n",
    "        END AS level\n",
    "    FROM\n",
    "        ranked_temp\n",
    "\"\"\").show()"
   ]
  },
  {
   "cell_type": "code",
   "execution_count": null,
   "id": "9dedd948-4325-468a-b34d-c67b6466f865",
   "metadata": {},
   "outputs": [],
   "source": [
    "id, amount, account_type, transaction_type, country,\n",
    "        CASE \n",
    "            WHEN Percent_rank >= 0.75 THEN 'high' \n",
    "            WHEN Percent_rank >= 0.25 AND Percent_rank < 0.75 THEN 'average'\n",
    "            ELSE 'low'\n",
    "        END AS level"
   ]
  }
 ],
 "metadata": {
  "kernelspec": {
   "display_name": "Python 3 (ipykernel)",
   "language": "python",
   "name": "python3"
  },
  "language_info": {
   "codemirror_mode": {
    "name": "ipython",
    "version": 3
   },
   "file_extension": ".py",
   "mimetype": "text/x-python",
   "name": "python",
   "nbconvert_exporter": "python",
   "pygments_lexer": "ipython3",
   "version": "3.11.5"
  }
 },
 "nbformat": 4,
 "nbformat_minor": 5
}
