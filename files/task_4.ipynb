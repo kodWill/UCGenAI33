{
 "cells": [
  {
   "cell_type": "code",
   "execution_count": 1,
   "id": "49fce76f-f64c-4331-be8c-22a15946a7c4",
   "metadata": {},
   "outputs": [],
   "source": [
    "import pyspark\n",
    "from pyspark.sql import SparkSession\n",
    "\n",
    "spark = SparkSession.builder.master(\"local[1]\").appName(\"setup\").getOrCreate()"
   ]
  },
  {
   "cell_type": "code",
   "execution_count": 24,
   "id": "4ffc37c1-6320-4ecc-991b-2b3f7e0bd8aa",
   "metadata": {},
   "outputs": [],
   "source": [
    "def read_text(path):\n",
    "    lines = open(path).readlines()\n",
    "    rows = [ row for row in lines if '+' not in row]\n",
    "    values = [row[1:].split('|')[:-1] for row in rows]\n",
    "    columns = [column.replace(\" \", \"\") for column in values[0]]\n",
    "    final_values = [[value.replace(\" \", \"\") for value in row] for row in values[1:]]\n",
    "    final_df = spark.createDataFrame(data=final_values, schema = columns)\n",
    "    return final_df"
   ]
  },
  {
   "cell_type": "code",
   "execution_count": 25,
   "id": "8caba9f2-0e77-4c98-8e21-5b85197780bb",
   "metadata": {},
   "outputs": [
    {
     "name": "stdout",
     "output_type": "stream",
     "text": [
      "root\n",
      " |-- id: string (nullable = true)\n",
      " |-- Col1: string (nullable = true)\n",
      " |-- Col2: string (nullable = true)\n",
      "\n",
      "+---+------------------+-----+\n",
      "|id |Col1              |Col2 |\n",
      "+---+------------------+-----+\n",
      "|1  |one,two,three     |one  |\n",
      "|2  |four,one,five     |six  |\n",
      "|3  |seven,nine,one,two|eight|\n",
      "|4  |two,three,five    |five |\n",
      "|5  |six,five,one      |seven|\n",
      "+---+------------------+-----+\n",
      "\n"
     ]
    }
   ],
   "source": [
    "df = read_text(r\"/home/jovyan/plane.txt\")\n",
    "df.printSchema()\n",
    "df.show(truncate=False)"
   ]
  }
 ],
 "metadata": {
  "kernelspec": {
   "display_name": "Python 3 (ipykernel)",
   "language": "python",
   "name": "python3"
  },
  "language_info": {
   "codemirror_mode": {
    "name": "ipython",
    "version": 3
   },
   "file_extension": ".py",
   "mimetype": "text/x-python",
   "name": "python",
   "nbconvert_exporter": "python",
   "pygments_lexer": "ipython3",
   "version": "3.11.5"
  }
 },
 "nbformat": 4,
 "nbformat_minor": 5
}
